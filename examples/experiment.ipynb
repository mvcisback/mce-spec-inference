{
 "cells": [
  {
   "cell_type": "markdown",
   "metadata": {},
   "source": [
    "# CAV 2020 Artifact\n",
    "\n",
    "- paper: **Learning Task Specifications from Demonstrations via the Principle of Maximum Causal Entropy**\n",
    "- authors: Marcell Vazquez-Chanlatte, Sanjit A. Seshia\n",
    "\n",
    "\n",
    "This notebook is designed to be run sequentially; however the majority of the notebook is setup for the final section on actually performing inference. As such, we have provided the following TOC to get an overview of the notebook.\n",
    "\n",
    "## TOC:\n",
    "1. [Dynamical System](#1.-Create-Dynamical-System)\n",
    "2. [Sensor and Visualizing the Map](#2.-Create-Sensor-+-Visualize-Map)\n",
    "3. [Demonstrations](#3.-Describe-demonstrations)\n",
    "4. [Concept Class](#4.-Define-Specification-Circuits)\n",
    "5. [Specification Inference](#5.-Run-Maximum-Casual-Entropy-Specification-Inference)"
   ]
  },
  {
   "cell_type": "code",
   "execution_count": 1,
   "metadata": {},
   "outputs": [],
   "source": [
    "import aiger as A\n",
    "import aiger_bv as BV\n",
    "import aiger_coins as C\n",
    "import aiger_gridworld as GW\n",
    "import aiger_ptltl as LTL\n",
    "import funcy as fn\n",
    "import matplotlib.pyplot as plt\n",
    "import seaborn as sns\n",
    "from bidict import bidict"
   ]
  },
  {
   "cell_type": "markdown",
   "metadata": {},
   "source": [
    "# 1. Create Dynamical System\n",
    "\n",
    "Here we create a BitVector sequential circuit, `DYN`, using `py-aiger`, the models a gridworld (line 4).\n",
    "\n",
    "Afterwords, lines 6-8 describe introducing a slip probability of `1/32` (modeled by a biased coin with bias `31/32`). \n",
    "\n",
    "**Note that states are 1-hot encoded**"
   ]
  },
  {
   "cell_type": "code",
   "execution_count": 2,
   "metadata": {},
   "outputs": [],
   "source": [
    "X = BV.atom(8, 'x', signed=False)\n",
    "Y = BV.atom(8, 'y', signed=False)\n",
    "\n",
    "DYN = GW.gridworld(8, start=(3, 5), compressed_inputs=True)\n",
    "\n",
    "SLIP = BV.atom(1, 'c', signed=False).repeat(2) & BV.atom(2, 'a', signed=False)\n",
    "SLIP = SLIP.with_output('a').aigbv\n",
    "DYN2 = C.coin((31, 32), 'c') >> C.circ2mdp(DYN << SLIP)\n",
    "\n",
    "def encode_state(x, y):\n",
    "    x, y = [BV.encode_int(8, 1 << (v - 1), signed=False) for v in (x, y)]\n",
    "    return {'x': tuple(x), 'y': tuple(y)}"
   ]
  },
  {
   "cell_type": "code",
   "execution_count": 3,
   "metadata": {},
   "outputs": [
    {
     "data": {
      "text/plain": [
       "{'x': (False, True, False, False, False, False, False, False),\n",
       " 'y': (False, False, True, False, False, False, False, False)}"
      ]
     },
     "execution_count": 3,
     "metadata": {},
     "output_type": "execute_result"
    }
   ],
   "source": [
    "encode_state(2, 3)"
   ]
  },
  {
   "cell_type": "markdown",
   "metadata": {},
   "source": [
    "# 2. Create Sensor / Feature overlay\n",
    "\n",
    "Next, we define the mapping from concrete states to sensor values / atomic predicates.\n",
    "We use simple coordinate wise bitvector masks to encode the color overlays."
   ]
  },
  {
   "cell_type": "code",
   "execution_count": 4,
   "metadata": {},
   "outputs": [],
   "source": [
    "def mask_test(xmask, ymask):\n",
    "    return ((X & xmask) !=0) & ((Y & ymask) != 0)\n",
    "\n",
    "\n",
    "APS = {       #            x-axis       y-axis\n",
    "    'yellow': mask_test(0b1000_0001, 0b1000_0001),\n",
    "    'blue':   mask_test(0b0001_1000, 0b0011100),\n",
    "    'brown':   mask_test(0b0011_1100, 0b1000_0001),\n",
    "    'red':    mask_test(0b1000_0001, 0b0100_1100) \\\n",
    "            | mask_test(0b0100_0010, 0b1100_1100),\n",
    "}\n",
    "\n",
    "def create_sensor(aps):\n",
    "    sensor = BV.aig2aigbv(A.empty())\n",
    "    for name, ap in APS.items():\n",
    "        sensor |= ap.with_output(name).aigbv\n",
    "    return sensor\n",
    "\n",
    "\n",
    "SENSOR = create_sensor(APS)"
   ]
  },
  {
   "cell_type": "markdown",
   "metadata": {},
   "source": [
    "## Visualizing Overlay\n",
    "\n",
    "This can all seem pretty abstract, so let's visualize the way the sensor sees the board."
   ]
  },
  {
   "cell_type": "code",
   "execution_count": 5,
   "metadata": {},
   "outputs": [
    {
     "data": {
      "text/html": [
       "<text style='border: solid 1px;background-color:#ffff8c'>&nbsp;&nbsp;&nbsp;&nbsp;</text>&nbsp;<text style='border: solid 1px;background-color:white'>&nbsp;&nbsp;&nbsp;&nbsp;</text>&nbsp;<text style='border: solid 1px;background-color:#ffb081'>&nbsp;&nbsp;&nbsp;&nbsp;</text>&nbsp;<text style='border: solid 1px;background-color:#ffb081'>&nbsp;&nbsp;&nbsp;&nbsp;</text>&nbsp;<text style='border: solid 1px;background-color:#ffb081'>&nbsp;&nbsp;&nbsp;&nbsp;</text>&nbsp;<text style='border: solid 1px;background-color:#ffb081'>&nbsp;&nbsp;&nbsp;&nbsp;</text>&nbsp;<text style='border: solid 1px;background-color:white'>&nbsp;&nbsp;&nbsp;&nbsp;</text>&nbsp;<text style='border: solid 1px;background-color:#ffff8c'>&nbsp;&nbsp;&nbsp;&nbsp;</text>"
      ],
      "text/plain": [
       "<IPython.core.display.HTML object>"
      ]
     },
     "metadata": {},
     "output_type": "display_data"
    },
    {
     "data": {
      "text/html": [
       "<text style='border: solid 1px;background-color:white'>&nbsp;&nbsp;&nbsp;&nbsp;</text>&nbsp;<text style='border: solid 1px;background-color:white'>&nbsp;&nbsp;&nbsp;&nbsp;</text>&nbsp;<text style='border: solid 1px;background-color:white'>&nbsp;&nbsp;&nbsp;&nbsp;</text>&nbsp;<text style='border: solid 1px;background-color:white'>&nbsp;&nbsp;&nbsp;&nbsp;</text>&nbsp;<text style='border: solid 1px;background-color:white'>&nbsp;&nbsp;&nbsp;&nbsp;</text>&nbsp;<text style='border: solid 1px;background-color:white'>&nbsp;&nbsp;&nbsp;&nbsp;</text>&nbsp;<text style='border: solid 1px;background-color:white'>&nbsp;&nbsp;&nbsp;&nbsp;</text>&nbsp;<text style='border: solid 1px;background-color:white'>&nbsp;&nbsp;&nbsp;&nbsp;</text>"
      ],
      "text/plain": [
       "<IPython.core.display.HTML object>"
      ]
     },
     "metadata": {},
     "output_type": "display_data"
    },
    {
     "data": {
      "text/html": [
       "<text style='border: solid 1px;background-color:#ff5454'>&nbsp;&nbsp;&nbsp;&nbsp;</text>&nbsp;<text style='border: solid 1px;background-color:#ff5454'>&nbsp;&nbsp;&nbsp;&nbsp;</text>&nbsp;<text style='border: solid 1px;background-color:white'>&nbsp;&nbsp;&nbsp;&nbsp;</text>&nbsp;<text style='border: solid 1px;background-color:#9595ff'>&nbsp;&nbsp;&nbsp;&nbsp;</text>&nbsp;<text style='border: solid 1px;background-color:#9595ff'>&nbsp;&nbsp;&nbsp;&nbsp;</text>&nbsp;<text style='border: solid 1px;background-color:white'>&nbsp;&nbsp;&nbsp;&nbsp;</text>&nbsp;<text style='border: solid 1px;background-color:#ff5454'>&nbsp;&nbsp;&nbsp;&nbsp;</text>&nbsp;<text style='border: solid 1px;background-color:#ff5454'>&nbsp;&nbsp;&nbsp;&nbsp;</text>"
      ],
      "text/plain": [
       "<IPython.core.display.HTML object>"
      ]
     },
     "metadata": {},
     "output_type": "display_data"
    },
    {
     "data": {
      "text/html": [
       "<text style='border: solid 1px;background-color:#ff5454'>&nbsp;&nbsp;&nbsp;&nbsp;</text>&nbsp;<text style='border: solid 1px;background-color:#ff5454'>&nbsp;&nbsp;&nbsp;&nbsp;</text>&nbsp;<text style='border: solid 1px;background-color:white'>&nbsp;&nbsp;&nbsp;&nbsp;</text>&nbsp;<text style='border: solid 1px;background-color:#9595ff'>&nbsp;&nbsp;&nbsp;&nbsp;</text>&nbsp;<text style='border: solid 1px;background-color:#9595ff'>&nbsp;&nbsp;&nbsp;&nbsp;</text>&nbsp;<text style='border: solid 1px;background-color:white'>&nbsp;&nbsp;&nbsp;&nbsp;</text>&nbsp;<text style='border: solid 1px;background-color:#ff5454'>&nbsp;&nbsp;&nbsp;&nbsp;</text>&nbsp;<text style='border: solid 1px;background-color:#ff5454'>&nbsp;&nbsp;&nbsp;&nbsp;</text>"
      ],
      "text/plain": [
       "<IPython.core.display.HTML object>"
      ]
     },
     "metadata": {},
     "output_type": "display_data"
    },
    {
     "data": {
      "text/html": [
       "<text style='border: solid 1px;background-color:white'>&nbsp;&nbsp;&nbsp;&nbsp;</text>&nbsp;<text style='border: solid 1px;background-color:white'>&nbsp;&nbsp;&nbsp;&nbsp;</text>&nbsp;<text style='border: solid 1px;background-color:white'>&nbsp;&nbsp;&nbsp;&nbsp;</text>&nbsp;<text style='border: solid 1px;background-color:#9595ff'>&nbsp;&nbsp;&nbsp;&nbsp;</text>&nbsp;<text style='border: solid 1px;background-color:#9595ff'>&nbsp;&nbsp;&nbsp;&nbsp;</text>&nbsp;<text style='border: solid 1px;background-color:white'>&nbsp;&nbsp;&nbsp;&nbsp;</text>&nbsp;<text style='border: solid 1px;background-color:white'>&nbsp;&nbsp;&nbsp;&nbsp;</text>&nbsp;<text style='border: solid 1px;background-color:white'>&nbsp;&nbsp;&nbsp;&nbsp;</text>"
      ],
      "text/plain": [
       "<IPython.core.display.HTML object>"
      ]
     },
     "metadata": {},
     "output_type": "display_data"
    },
    {
     "data": {
      "text/html": [
       "<text style='border: solid 1px;background-color:white'>&nbsp;&nbsp;&nbsp;&nbsp;</text>&nbsp;<text style='border: solid 1px;background-color:white'>&nbsp;&nbsp;&nbsp;&nbsp;</text>&nbsp;<text style='border: solid 1px;background-color:white'>&nbsp;&nbsp;&nbsp;&nbsp;</text>&nbsp;<text style='border: solid 1px;background-color:white'>&nbsp;&nbsp;&nbsp;&nbsp;</text>&nbsp;<text style='border: solid 1px;background-color:white'>&nbsp;&nbsp;&nbsp;&nbsp;</text>&nbsp;<text style='border: solid 1px;background-color:white'>&nbsp;&nbsp;&nbsp;&nbsp;</text>&nbsp;<text style='border: solid 1px;background-color:white'>&nbsp;&nbsp;&nbsp;&nbsp;</text>&nbsp;<text style='border: solid 1px;background-color:white'>&nbsp;&nbsp;&nbsp;&nbsp;</text>"
      ],
      "text/plain": [
       "<IPython.core.display.HTML object>"
      ]
     },
     "metadata": {},
     "output_type": "display_data"
    },
    {
     "data": {
      "text/html": [
       "<text style='border: solid 1px;background-color:#ff5454'>&nbsp;&nbsp;&nbsp;&nbsp;</text>&nbsp;<text style='border: solid 1px;background-color:#ff5454'>&nbsp;&nbsp;&nbsp;&nbsp;</text>&nbsp;<text style='border: solid 1px;background-color:white'>&nbsp;&nbsp;&nbsp;&nbsp;</text>&nbsp;<text style='border: solid 1px;background-color:white'>&nbsp;&nbsp;&nbsp;&nbsp;</text>&nbsp;<text style='border: solid 1px;background-color:white'>&nbsp;&nbsp;&nbsp;&nbsp;</text>&nbsp;<text style='border: solid 1px;background-color:white'>&nbsp;&nbsp;&nbsp;&nbsp;</text>&nbsp;<text style='border: solid 1px;background-color:#ff5454'>&nbsp;&nbsp;&nbsp;&nbsp;</text>&nbsp;<text style='border: solid 1px;background-color:#ff5454'>&nbsp;&nbsp;&nbsp;&nbsp;</text>"
      ],
      "text/plain": [
       "<IPython.core.display.HTML object>"
      ]
     },
     "metadata": {},
     "output_type": "display_data"
    },
    {
     "data": {
      "text/html": [
       "<text style='border: solid 1px;background-color:#ffff8c'>&nbsp;&nbsp;&nbsp;&nbsp;</text>&nbsp;<text style='border: solid 1px;background-color:#ff5454'>&nbsp;&nbsp;&nbsp;&nbsp;</text>&nbsp;<text style='border: solid 1px;background-color:#ffb081'>&nbsp;&nbsp;&nbsp;&nbsp;</text>&nbsp;<text style='border: solid 1px;background-color:#ffb081'>&nbsp;&nbsp;&nbsp;&nbsp;</text>&nbsp;<text style='border: solid 1px;background-color:#ffb081'>&nbsp;&nbsp;&nbsp;&nbsp;</text>&nbsp;<text style='border: solid 1px;background-color:#ffb081'>&nbsp;&nbsp;&nbsp;&nbsp;</text>&nbsp;<text style='border: solid 1px;background-color:#ff5454'>&nbsp;&nbsp;&nbsp;&nbsp;</text>&nbsp;<text style='border: solid 1px;background-color:#ffff8c'>&nbsp;&nbsp;&nbsp;&nbsp;</text>"
      ],
      "text/plain": [
       "<IPython.core.display.HTML object>"
      ]
     },
     "metadata": {},
     "output_type": "display_data"
    }
   ],
   "source": [
    "from IPython.display import HTML as html_print\n",
    "\n",
    "\n",
    "COLOR_ALIAS = {\n",
    "    'yellow': '#ffff8c', 'brown': '#ffb081',\n",
    "    'red': '#ff5454', 'blue': '#9595ff'\n",
    "}\n",
    "\n",
    "\n",
    "def tile(color='black'):\n",
    "    color = COLOR_ALIAS.get(color, color)\n",
    "    s = '&nbsp;'*4\n",
    "    return f\"<text style='border: solid 1px;background-color:{color}'>{s}</text>\"\n",
    "\n",
    "\n",
    "def ap_at_state(x, y, in_ascii=False):\n",
    "    \"\"\"Use sensor to create colored tile.\"\"\"\n",
    "    state = encode_state(x, y)\n",
    "    obs = SENSOR(state)[0]   # <----------   \n",
    "\n",
    "    for k in COLOR_ALIAS.keys():\n",
    "        if obs[k][0]:\n",
    "            return tile(k)\n",
    "    return tile('white')\n",
    "\n",
    "def print_map():\n",
    "    \"\"\"Scan the board row by row and print colored tiles.\"\"\"\n",
    "    order = range(1, 9)\n",
    "    for y in order:\n",
    "        chars = (ap_at_state(x, y, in_ascii=True) for x in order)\n",
    "        display(html_print('&nbsp;'.join(chars)))\n",
    "        \n",
    "print_map()"
   ]
  },
  {
   "cell_type": "markdown",
   "metadata": {},
   "source": [
    "# 3. Describe demonstrations\n",
    "\n",
    "We now encode a collection of demonstrations from an agent attempting to:\n",
    "\n",
    "1. Avoid the red tiles (lava).\n",
    "2. Reach the yellow tiles (recharge).\n",
    "3. If the agent touches a blue tile (water), then it must dry off (brown tile) before recharging.\n",
    "\n",
    "**Note** Trace 5 corresponds to a very unlikely demonstration where the agent enters the water, but is unable to dry off due to wind."
   ]
  },
  {
   "cell_type": "code",
   "execution_count": 6,
   "metadata": {},
   "outputs": [
    {
     "data": {
      "text/html": [
       "trc 0:&nbsp;&nbsp;&nbsp;→<text style='border: solid 1px;background-color:#9595ff'>&nbsp;&nbsp;&nbsp;&nbsp;</text>→<text style='border: solid 1px;background-color:#9595ff'>&nbsp;&nbsp;&nbsp;&nbsp;</text>↑<text style='border: solid 1px;background-color:#9595ff'>&nbsp;&nbsp;&nbsp;&nbsp;</text>↑<text style='border: solid 1px;background-color:#9595ff'>&nbsp;&nbsp;&nbsp;&nbsp;</text>↑<text style='border: solid 1px;background-color:white'>&nbsp;&nbsp;&nbsp;&nbsp;</text>↑<text style='border: solid 1px;background-color:#ffb081'>&nbsp;&nbsp;&nbsp;&nbsp;</text>→<text style='border: solid 1px;background-color:#ffb081'>&nbsp;&nbsp;&nbsp;&nbsp;</text>→<text style='border: solid 1px;background-color:white'>&nbsp;&nbsp;&nbsp;&nbsp;</text>→<text style='border: solid 1px;background-color:#ffff8c'>&nbsp;&nbsp;&nbsp;&nbsp;</text>\n"
      ],
      "text/plain": [
       "<IPython.core.display.HTML object>"
      ]
     },
     "metadata": {},
     "output_type": "display_data"
    },
    {
     "data": {
      "text/html": [
       "trc 1:&nbsp;&nbsp;&nbsp;↑<text style='border: solid 1px;background-color:white'>&nbsp;&nbsp;&nbsp;&nbsp;</text>↑<text style='border: solid 1px;background-color:white'>&nbsp;&nbsp;&nbsp;&nbsp;</text>↑<text style='border: solid 1px;background-color:white'>&nbsp;&nbsp;&nbsp;&nbsp;</text>↑<text style='border: solid 1px;background-color:#ffb081'>&nbsp;&nbsp;&nbsp;&nbsp;</text>←<text style='border: solid 1px;background-color:white'>&nbsp;&nbsp;&nbsp;&nbsp;</text>←<text style='border: solid 1px;background-color:#ffff8c'>&nbsp;&nbsp;&nbsp;&nbsp;</text>←<text style='border: solid 1px;background-color:#ffff8c'>&nbsp;&nbsp;&nbsp;&nbsp;</text>←<text style='border: solid 1px;background-color:#ffff8c'>&nbsp;&nbsp;&nbsp;&nbsp;</text>←<text style='border: solid 1px;background-color:#ffff8c'>&nbsp;&nbsp;&nbsp;&nbsp;</text>\n"
      ],
      "text/plain": [
       "<IPython.core.display.HTML object>"
      ]
     },
     "metadata": {},
     "output_type": "display_data"
    },
    {
     "data": {
      "text/html": [
       "trc 2:&nbsp;&nbsp;&nbsp;←<text style='border: solid 1px;background-color:white'>&nbsp;&nbsp;&nbsp;&nbsp;</text>→<text style='border: solid 1px;background-color:white'>&nbsp;&nbsp;&nbsp;&nbsp;</text>↑<text style='border: solid 1px;background-color:white'>&nbsp;&nbsp;&nbsp;&nbsp;</text>↑<text style='border: solid 1px;background-color:white'>&nbsp;&nbsp;&nbsp;&nbsp;</text>↑<text style='border: solid 1px;background-color:white'>&nbsp;&nbsp;&nbsp;&nbsp;</text>←<text style='border: solid 1px;background-color:white'>&nbsp;&nbsp;&nbsp;&nbsp;</text>↑<text style='border: solid 1px;background-color:white'>&nbsp;&nbsp;&nbsp;&nbsp;</text>←<text style='border: solid 1px;background-color:#ffff8c'>&nbsp;&nbsp;&nbsp;&nbsp;</text>←<text style='border: solid 1px;background-color:#ffff8c'>&nbsp;&nbsp;&nbsp;&nbsp;</text>\n"
      ],
      "text/plain": [
       "<IPython.core.display.HTML object>"
      ]
     },
     "metadata": {},
     "output_type": "display_data"
    },
    {
     "data": {
      "text/html": [
       "trc 3:&nbsp;&nbsp;&nbsp;↑<text style='border: solid 1px;background-color:white'>&nbsp;&nbsp;&nbsp;&nbsp;</text>↑<text style='border: solid 1px;background-color:white'>&nbsp;&nbsp;&nbsp;&nbsp;</text>→<text style='border: solid 1px;background-color:#9595ff'>&nbsp;&nbsp;&nbsp;&nbsp;</text>←<text style='border: solid 1px;background-color:white'>&nbsp;&nbsp;&nbsp;&nbsp;</text>↑<text style='border: solid 1px;background-color:white'>&nbsp;&nbsp;&nbsp;&nbsp;</text>↑<text style='border: solid 1px;background-color:#ffb081'>&nbsp;&nbsp;&nbsp;&nbsp;</text>←<text style='border: solid 1px;background-color:white'>&nbsp;&nbsp;&nbsp;&nbsp;</text>←<text style='border: solid 1px;background-color:#ffff8c'>&nbsp;&nbsp;&nbsp;&nbsp;</text>←<text style='border: solid 1px;background-color:#ffff8c'>&nbsp;&nbsp;&nbsp;&nbsp;</text>\n"
      ],
      "text/plain": [
       "<IPython.core.display.HTML object>"
      ]
     },
     "metadata": {},
     "output_type": "display_data"
    },
    {
     "data": {
      "text/html": [
       "trc 4:&nbsp;&nbsp;&nbsp;↑<text style='border: solid 1px;background-color:white'>&nbsp;&nbsp;&nbsp;&nbsp;</text>→<text style='border: solid 1px;background-color:#9595ff'>&nbsp;&nbsp;&nbsp;&nbsp;</text>↑<text style='border: solid 1px;background-color:#9595ff'>&nbsp;&nbsp;&nbsp;&nbsp;</text>↑<text style='border: solid 1px;background-color:white'>&nbsp;&nbsp;&nbsp;&nbsp;</text>↑<text style='border: solid 1px;background-color:#ffb081'>&nbsp;&nbsp;&nbsp;&nbsp;</text>←<text style='border: solid 1px;background-color:#ffb081'>&nbsp;&nbsp;&nbsp;&nbsp;</text>←<text style='border: solid 1px;background-color:white'>&nbsp;&nbsp;&nbsp;&nbsp;</text>←<text style='border: solid 1px;background-color:#ffff8c'>&nbsp;&nbsp;&nbsp;&nbsp;</text>←<text style='border: solid 1px;background-color:#ffff8c'>&nbsp;&nbsp;&nbsp;&nbsp;</text>\n"
      ],
      "text/plain": [
       "<IPython.core.display.HTML object>"
      ]
     },
     "metadata": {},
     "output_type": "display_data"
    },
    {
     "data": {
      "text/html": [
       "trc 5:&nbsp;&nbsp;&nbsp;↑<text style='border: solid 1px;background-color:white'>&nbsp;&nbsp;&nbsp;&nbsp;</text>→<text style='border: solid 1px;background-color:#9595ff'>&nbsp;&nbsp;&nbsp;&nbsp;</text>↑<text style='border: solid 1px;background-color:#9595ff'>&nbsp;&nbsp;&nbsp;&nbsp;</text>↑<text style='border: solid 1px;background-color:white'>&nbsp;&nbsp;&nbsp;&nbsp;</text>←<text style='border: solid 1px;background-color:white'>&nbsp;&nbsp;&nbsp;&nbsp;</text>←<text style='border: solid 1px;background-color:white'>&nbsp;&nbsp;&nbsp;&nbsp;</text>←<text style='border: solid 1px;background-color:white'>&nbsp;&nbsp;&nbsp;&nbsp;</text>↑<text style='border: solid 1px;background-color:#ffff8c'>&nbsp;&nbsp;&nbsp;&nbsp;</text>↑<text style='border: solid 1px;background-color:#ffff8c'>&nbsp;&nbsp;&nbsp;&nbsp;</text>\n"
      ],
      "text/plain": [
       "<IPython.core.display.HTML object>"
      ]
     },
     "metadata": {},
     "output_type": "display_data"
    }
   ],
   "source": [
    "ACTION2ARROW = bidict({\n",
    "    GW.NORTH_C: '↑',\n",
    "    GW.SOUTH_C: '↓',\n",
    "    GW.WEST_C: '←',\n",
    "    GW.EAST_C: '→',\n",
    "})\n",
    "\n",
    "\n",
    "def print_trc(trc, idx=0):\n",
    "    actions, states = trc\n",
    "    obs = (ap_at_state(*pos, in_ascii=True) for pos in states)\n",
    "    display(\n",
    "        html_print(f'trc {idx}:&nbsp;&nbsp;&nbsp;' + ''.join(''.join(x) for x in zip(actions, obs)) + '\\n')\n",
    "    )\n",
    "\n",
    "ACTIONS0 = \"→→↑↑↑↑→→→\"\n",
    "STATES0 = ((4, 5), (5, 5), (5, 4), (5, 3),(5, 2), (5, 1), (6, 1), (7, 1), (8, 1))\n",
    "TRC0 = (ACTIONS0, STATES0)\n",
    "print_trc(TRC0, 0)\n",
    "\n",
    "ACTIONS1 = \"↑↑↑↑←←←←←\"\n",
    "STATES1 = ((3, 4), (3, 3), (3, 2), (3, 1), (2, 1), (1, 1), (1, 1), (1, 1), (1, 1),)\n",
    "TRC1 = (ACTIONS1, STATES1)\n",
    "print_trc(TRC1, 1)\n",
    "\n",
    "ACTIONS2 = \"←→↑↑↑←↑←←\"\n",
    "STATES2 = ((2, 5), (3, 5), (3, 4), (3, 3), (3, 2), (2, 2), (2, 1), (1, 1), (1, 1))\n",
    "TRC2 = (ACTIONS2, STATES2)\n",
    "print_trc(TRC2, 2)\n",
    "\n",
    "ACTIONS3 = \"↑↑→←↑↑←←←\"\n",
    "STATES3 = ((3, 4), (3, 3), (4, 3), (3, 3), (3, 2), (3, 1), (2, 1), (1, 1), (1, 1))\n",
    "TRC3 = (ACTIONS3, STATES3)\n",
    "print_trc(TRC3, 3)\n",
    "\n",
    "ACTIONS4 = \"↑→↑↑↑←←←←\"\n",
    "STATES4 = ((3, 4), (4, 4), (4, 3), (4, 2), (4, 1), (3, 1), (2, 1), (1, 1), (1, 1))\n",
    "TRC4 = (ACTIONS4, STATES4)\n",
    "print_trc(TRC4, 4)\n",
    "\n",
    "ACTIONS5 = \"↑→↑↑←←←↑↑\"\n",
    "STATES5 = ((3, 4), (4, 4), (4, 3), (4, 2), (3, 2), (2, 2), (1, 2), (1, 1), (1, 1))\n",
    "TRC5 = (ACTIONS5, STATES5)\n",
    "print_trc(TRC5, 5)\n",
    "\n",
    "TRACES = [TRC0, TRC1, TRC2, TRC3, TRC4]        # Variety of positive demos.\n",
    "TRACES += [TRC5]                               # Unlucky, Negative Demonstration.\n",
    "TRACES = 4 * [TRC4]                            # Additional \"Safe\" Demonstrations."
   ]
  },
  {
   "cell_type": "markdown",
   "metadata": {},
   "source": [
    "## Convert \"human readable\" demos to bitvectors."
   ]
  },
  {
   "cell_type": "code",
   "execution_count": 7,
   "metadata": {},
   "outputs": [],
   "source": [
    "def str2actions(vals):\n",
    "    return [ACTION2ARROW.inv[c] for c in vals]\n",
    "\n",
    "def encode_trace(trc):\n",
    "    actions, states = trc\n",
    "    actions = str2actions(actions)\n",
    "    actions = [{'a': a} for a in actions]\n",
    "    states = [encode_state(*s) for s in states]\n",
    "    return actions, states\n",
    "\n",
    "DEMOS = [encode_trace(trc) for trc in TRACES]"
   ]
  },
  {
   "cell_type": "markdown",
   "metadata": {},
   "source": [
    "# 4. Define Specification Circuits\n",
    "\n",
    "First, we describe the properties over colors of the map. This is done in past tense temporal logic using `py-aiger-ptltl`."
   ]
  },
  {
   "cell_type": "code",
   "execution_count": 8,
   "metadata": {},
   "outputs": [],
   "source": [
    "LAVA, RECHARGE, WATER, DRY = map(LTL.atom, ['red', 'yellow', 'blue', 'brown'])\n",
    "\n",
    "EVENTUALLY_RECHARGE = RECHARGE.once()\n",
    "AVOID_LAVA = (~LAVA).historically()\n",
    "\n",
    "RECHARGED_AND_ONCE_WET = RECHARGE & WATER.once()\n",
    "DRIED_OFF = (~WATER).since(DRY)\n",
    "\n",
    "DIDNT_RECHARGE_WHILE_WET = (RECHARGED_AND_ONCE_WET).implies(DRIED_OFF)\n",
    "DONT_RECHARGE_WHILE_WET = DIDNT_RECHARGE_WHILE_WET.historically()\n",
    "\n",
    "CONST_TRUE = LTL.atom(True)\n",
    "\n",
    "\n",
    "SPECS = [\n",
    "    CONST_TRUE, AVOID_LAVA, EVENTUALLY_RECHARGE, DONT_RECHARGE_WHILE_WET,\n",
    "    AVOID_LAVA & EVENTUALLY_RECHARGE & DONT_RECHARGE_WHILE_WET,\n",
    "    AVOID_LAVA & EVENTUALLY_RECHARGE,\n",
    "    AVOID_LAVA & DONT_RECHARGE_WHILE_WET,\n",
    "    EVENTUALLY_RECHARGE & DONT_RECHARGE_WHILE_WET,\n",
    "]\n",
    "\n",
    "SPEC_NAMES = [\n",
    "    \"CONST_TRUE\", \"AVOID_LAVA\", \"EVENTUALLY_RECHARGE\", \"DONT_RECHARGE_WHILE_WET\",\n",
    "    \"AVOID_LAVA & EVENTUALLY_RECHARGE & DONT_RECHARGE_WHILE_WET\",\n",
    "    \"AVOID_LAVA & EVENTUALLY_RECHARGE\",\n",
    "    \"AVOID_LAVA & DONT_RECHARGE_WHILE_WET\",\n",
    "    \"EVENTUALLY_RECHARGE & DONT_RECHARGE_WHILE_WET\",\n",
    "]"
   ]
  },
  {
   "cell_type": "markdown",
   "metadata": {},
   "source": [
    "## Convert specifications to monitor circuits"
   ]
  },
  {
   "cell_type": "code",
   "execution_count": 9,
   "metadata": {},
   "outputs": [],
   "source": [
    "def spec2monitor(spec):\n",
    "    \"\"\"Ignore unused colors + convert to a BitVector AIG.\"\"\"\n",
    "    monitor = spec.aig | A.sink(['red', 'yellow', 'brown', 'blue'])\n",
    "    monitor = monitor['o', {spec.output: 'sat'}]\n",
    "    monitor = BV.aig2aigbv(monitor)\n",
    "    return SENSOR >> monitor\n",
    "    \n",
    "SPEC2MONITORS = { spec: spec2monitor(spec) for spec in SPECS }"
   ]
  },
  {
   "cell_type": "markdown",
   "metadata": {},
   "source": [
    "# 5. Run Maximum Casual Entropy Specification Inference\n",
    "\n",
    "Finally, we use our maximum causal entropy inference algorithm which computes a BDD representation of the composition of each spec and MDP circuit.\n",
    "\n",
    "**Note:** Several performance bugs were fixed between this version and the submitted version, resulting in improved BDD construction times.\n",
    "\n",
    "Package `mce-spec-inference` package available here: https://pypi.org/project/mce-spec-inference/"
   ]
  },
  {
   "cell_type": "code",
   "execution_count": 10,
   "metadata": {},
   "outputs": [
    {
     "name": "stdout",
     "output_type": "stream",
     "text": [
      "encoding traces\n",
      "done encoding traces\n",
      "concretizing spec\n",
      "concretizing spec\n",
      "concretizing spec\n",
      "concretizing spec\n",
      "done spec\n",
      "fitting policy\n",
      "done fitting\n",
      "compute log likelihood of demos\n",
      "\n",
      "----------------------------\n",
      "\n",
      "BDD size: 1\n",
      "Controller Size: 0\n",
      "log_prob: -174.67308950110655\n",
      "build spec: 1.2s\n",
      "fit: 0.003s\n",
      "surprise: 0.0068s\n",
      "\n",
      "----------------------------\n",
      "\n",
      "{'build spec': 1.1604554653167725, 'fit': 0.0029630661010742188, 'surprise': 0.0068323612213134766}\n",
      "concretizing spec\n",
      "done spec\n",
      "fitting policy\n",
      "done spec\n",
      "fitting policy\n",
      "done spec\n",
      "fitting policy\n",
      "done fitting\n",
      "compute log likelihood of demos\n",
      "\n",
      "----------------------------\n",
      "\n",
      "BDD size: 1628\n",
      "Controller Size: 328\n",
      "log_prob: -158.99448693889673\n",
      "build spec: 1.3s\n",
      "fit: 0.85s\n",
      "surprise: 0.01s\n",
      "\n",
      "----------------------------\n",
      "\n",
      "{'build spec': 1.3297436237335205, 'fit': 0.8536343574523926, 'surprise': 0.0104217529296875}\n",
      "concretizing spec\n",
      "done fitting\n",
      "compute log likelihood of demos\n",
      "\n",
      "----------------------------\n",
      "\n",
      "BDD size: 850\n",
      "Controller Size: 195\n",
      "log_prob: -196.09104677247583\n",
      "build spec: 1.9s\n",
      "fit: 0.39s\n",
      "surprise: 0.0072s\n",
      "\n",
      "----------------------------\n",
      "\n",
      "{'build spec': 1.9062602519989014, 'fit': 0.3903846740722656, 'surprise': 0.0071752071380615234}\n",
      "concretizing spec\n",
      "done fitting\n",
      "compute log likelihood of demos\n",
      "\n",
      "----------------------------\n",
      "\n",
      "BDD size: 1797\n",
      "Controller Size: 348\n",
      "log_prob: -180.1617005145679\n",
      "build spec: 1.6s\n",
      "fit: 0.95s\n",
      "surprise: 0.0078s\n",
      "\n",
      "----------------------------\n",
      "\n",
      "{'build spec': 1.6222774982452393, 'fit': 0.9518115520477295, 'surprise': 0.007803440093994141}\n",
      "concretizing spec\n",
      "done spec\n",
      "fitting policy\n",
      "done fitting\n",
      "compute log likelihood of demos\n",
      "\n",
      "----------------------------\n",
      "\n",
      "BDD size: 577\n",
      "Controller Size: 132\n",
      "log_prob: -144.69207936520675\n",
      "build spec: 2.0s\n",
      "fit: 0.27s\n",
      "surprise: 0.0071s\n",
      "\n",
      "----------------------------\n",
      "\n",
      "{'build spec': 2.023183584213257, 'fit': 0.26804065704345703, 'surprise': 0.00707244873046875}\n",
      "done spec\n",
      "fitting policy\n",
      "done fitting\n",
      "compute log likelihood of demos\n",
      "\n",
      "----------------------------\n",
      "\n",
      "BDD size: 523\n",
      "Controller Size: 118\n",
      "log_prob: -148.37691321798184\n",
      "build spec: 1.6s\n",
      "fit: 0.24s\n",
      "surprise: 0.0089s\n",
      "\n",
      "----------------------------\n",
      "\n",
      "{'build spec': 1.6383306980133057, 'fit': 0.2432842254638672, 'surprise': 0.008920669555664062}\n",
      "done spec\n",
      "done spec\n",
      "fitting policy\n",
      "fitting policy\n",
      "done fitting\n",
      "compute log likelihood of demos\n",
      "\n",
      "----------------------------\n",
      "\n",
      "BDD size: 1842\n",
      "Controller Size: 372\n",
      "log_prob: -160.57726747105818\n",
      "build spec: 1.7s\n",
      "fit: 0.98s\n",
      "surprise: 0.0096s\n",
      "\n",
      "----------------------------\n",
      "\n",
      "{'build spec': 1.7416093349456787, 'fit': 0.9760725498199463, 'surprise': 0.0096435546875}\n",
      "done fitting\n",
      "compute log likelihood of demos\n",
      "\n",
      "----------------------------\n",
      "\n",
      "BDD size: 1913\n",
      "Controller Size: 374\n",
      "log_prob: -180.20247074118637\n",
      "build spec: 2.1s\n",
      "fit: 1.0s\n",
      "surprise: 0.014s\n",
      "\n",
      "----------------------------\n",
      "\n",
      "{'build spec': 2.109565019607544, 'fit': 1.0084538459777832, 'surprise': 0.014009952545166016}\n"
     ]
    }
   ],
   "source": [
    "from mce.infer import spec_mle\n",
    "\n",
    "best, spec2score = spec_mle(\n",
    "    DYN2, DEMOS, SPEC2MONITORS.values(), parallel=True\n",
    ")"
   ]
  },
  {
   "cell_type": "markdown",
   "metadata": {},
   "source": [
    "## Plotting Results\n",
    "\n",
    "**Remark**: Based on the reviews, we have slightly changed how we present our likelihood results. Namely:\n",
    "\n",
    "1. Because of the sheer number of possible traces, the log likelihoods are typically **very** small.\n",
    "2. As a base line, we compare against the likelihood of generating the demonstrations under uniformly random actions.\n",
    "3. **Note** that this is equivilent to the likelihood of the demos under the `CONST_TRUE` specification.\n",
    "\n"
   ]
  },
  {
   "cell_type": "code",
   "execution_count": 11,
   "metadata": {
    "scrolled": false
   },
   "outputs": [
    {
     "data": {
      "image/png": "[encoded data removed]",
      "text/plain": [
       "<Figure size 432x288 with 1 Axes>"
      ]
     },
     "metadata": {
      "needs_background": "light"
     },
     "output_type": "display_data"
    }
   ],
   "source": [
    "def normalize(score):\n",
    "    return score - spec2score[SPEC2MONITORS[CONST_TRUE]]\n",
    "\n",
    "normalized_scores = fn.lmap(normalize, spec2score.values())\n",
    "\n",
    "sns.barplot(y=SPEC_NAMES, x =normalized_scores, orient='h')\n",
    "plt.title('Relative likelihoods for each specification')\n",
    "plt.xlabel('log[P(demos | spec)] - log[P(demos | TRUE)]')\n",
    "plt.show()"
   ]
  },
  {
   "cell_type": "markdown",
   "metadata": {},
   "source": [
    "**Note** Final version will use latex in plotting, but for ease of reproduction we stick with ascii"
   ]
  },
  {
   "cell_type": "markdown",
   "metadata": {},
   "source": [
    "Hopefully, you can see that the most likely demonstration is the intended one, namely,\n",
    "\n",
    "\n",
    "1. Avoid the red tiles (lava).\n",
    "2. Reach the yellow tiles (recharge).\n",
    "3. If the agent touches a blue tile (water), then it must dry off (brown tile) before recharging.\n",
    "\n",
    "This is despite there being an unlabeled negative demonstration (TRC5) which fails to recharge."
   ]
  }
 ],
 "metadata": {
  "kernelspec": {
   "display_name": "Python 3",
   "language": "python",
   "name": "python3"
  },
  "language_info": {
   "codemirror_mode": {
    "name": "ipython",
    "version": 3
   },
   "file_extension": ".py",
   "mimetype": "text/x-python",
   "name": "python",
   "nbconvert_exporter": "python",
   "pygments_lexer": "ipython3",
   "version": "3.8.2"
  }
 },
 "nbformat": 4,
 "nbformat_minor": 4
}
